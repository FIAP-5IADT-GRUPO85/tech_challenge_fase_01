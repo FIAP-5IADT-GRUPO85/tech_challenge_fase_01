{
 "cells": [
  {
   "cell_type": "markdown",
   "metadata": {
    "id": "iqOAUCDw15Ro"
   },
   "source": [
    "## **DESAFIO**"
   ]
  },
  {
   "cell_type": "markdown",
   "metadata": {},
   "source": [
    "Começar importando a base gerada pela IA"
   ]
  },
  {
   "cell_type": "code",
   "execution_count": 2,
   "metadata": {
    "colab": {
     "base_uri": "https://localhost:8080/",
     "height": 206
    },
    "executionInfo": {
     "elapsed": 1272,
     "status": "ok",
     "timestamp": 1706827171776,
     "user": {
      "displayName": "Ana Raquel Fernandes Cunha",
      "userId": "11327054232231817255"
     },
     "user_tz": 180
    },
    "id": "pVaILgQpTKx6",
    "outputId": "92a90aad-e58e-49d4-8b51-97798e110244"
   },
   "outputs": [],
   "source": [
    "# IMPORT DATASET\n",
    "import pandas as pd\n",
    "\n",
    "df = pd.read_csv(\"Dataset/simulated_insurance_100k.csv\", sep=\",\")  \n"
   ]
  },
  {
   "cell_type": "markdown",
   "metadata": {},
   "source": [
    "Começar a explorar a base"
   ]
  },
  {
   "cell_type": "code",
   "execution_count": 3,
   "metadata": {
    "id": "UXXPynwojBfd"
   },
   "outputs": [
    {
     "data": {
      "text/html": [
       "<div>\n",
       "<style scoped>\n",
       "    .dataframe tbody tr th:only-of-type {\n",
       "        vertical-align: middle;\n",
       "    }\n",
       "\n",
       "    .dataframe tbody tr th {\n",
       "        vertical-align: top;\n",
       "    }\n",
       "\n",
       "    .dataframe thead th {\n",
       "        text-align: right;\n",
       "    }\n",
       "</style>\n",
       "<table border=\"1\" class=\"dataframe\">\n",
       "  <thead>\n",
       "    <tr style=\"text-align: right;\">\n",
       "      <th></th>\n",
       "      <th>age</th>\n",
       "      <th>sex</th>\n",
       "      <th>bmi</th>\n",
       "      <th>children</th>\n",
       "      <th>smoker</th>\n",
       "      <th>region</th>\n",
       "      <th>charges</th>\n",
       "    </tr>\n",
       "  </thead>\n",
       "  <tbody>\n",
       "    <tr>\n",
       "      <th>0</th>\n",
       "      <td>56</td>\n",
       "      <td>female</td>\n",
       "      <td>35.40</td>\n",
       "      <td>4</td>\n",
       "      <td>no</td>\n",
       "      <td>southeast</td>\n",
       "      <td>10522.74</td>\n",
       "    </tr>\n",
       "    <tr>\n",
       "      <th>1</th>\n",
       "      <td>46</td>\n",
       "      <td>female</td>\n",
       "      <td>26.40</td>\n",
       "      <td>3</td>\n",
       "      <td>yes</td>\n",
       "      <td>northeast</td>\n",
       "      <td>23534.12</td>\n",
       "    </tr>\n",
       "    <tr>\n",
       "      <th>2</th>\n",
       "      <td>32</td>\n",
       "      <td>female</td>\n",
       "      <td>33.94</td>\n",
       "      <td>2</td>\n",
       "      <td>no</td>\n",
       "      <td>southwest</td>\n",
       "      <td>8923.73</td>\n",
       "    </tr>\n",
       "    <tr>\n",
       "      <th>3</th>\n",
       "      <td>60</td>\n",
       "      <td>male</td>\n",
       "      <td>28.50</td>\n",
       "      <td>2</td>\n",
       "      <td>no</td>\n",
       "      <td>southwest</td>\n",
       "      <td>8770.28</td>\n",
       "    </tr>\n",
       "    <tr>\n",
       "      <th>4</th>\n",
       "      <td>25</td>\n",
       "      <td>male</td>\n",
       "      <td>34.49</td>\n",
       "      <td>4</td>\n",
       "      <td>yes</td>\n",
       "      <td>northeast</td>\n",
       "      <td>22792.88</td>\n",
       "    </tr>\n",
       "  </tbody>\n",
       "</table>\n",
       "</div>"
      ],
      "text/plain": [
       "   age     sex    bmi  children smoker     region   charges\n",
       "0   56  female  35.40         4     no  southeast  10522.74\n",
       "1   46  female  26.40         3    yes  northeast  23534.12\n",
       "2   32  female  33.94         2     no  southwest   8923.73\n",
       "3   60    male  28.50         2     no  southwest   8770.28\n",
       "4   25    male  34.49         4    yes  northeast  22792.88"
      ]
     },
     "execution_count": 3,
     "metadata": {},
     "output_type": "execute_result"
    }
   ],
   "source": [
    "df.head()"
   ]
  },
  {
   "cell_type": "code",
   "execution_count": 4,
   "metadata": {},
   "outputs": [
    {
     "name": "stdout",
     "output_type": "stream",
     "text": [
      "<class 'pandas.core.frame.DataFrame'>\n",
      "RangeIndex: 100000 entries, 0 to 99999\n",
      "Data columns (total 7 columns):\n",
      " #   Column    Non-Null Count   Dtype  \n",
      "---  ------    --------------   -----  \n",
      " 0   age       100000 non-null  int64  \n",
      " 1   sex       100000 non-null  object \n",
      " 2   bmi       100000 non-null  float64\n",
      " 3   children  100000 non-null  int64  \n",
      " 4   smoker    100000 non-null  object \n",
      " 5   region    100000 non-null  object \n",
      " 6   charges   100000 non-null  float64\n",
      "dtypes: float64(2), int64(2), object(3)\n",
      "memory usage: 5.3+ MB\n"
     ]
    }
   ],
   "source": [
    "df.info()"
   ]
  },
  {
   "cell_type": "code",
   "execution_count": 5,
   "metadata": {},
   "outputs": [
    {
     "data": {
      "text/plain": [
       "age         0\n",
       "sex         0\n",
       "bmi         0\n",
       "children    0\n",
       "smoker      0\n",
       "region      0\n",
       "charges     0\n",
       "dtype: int64"
      ]
     },
     "execution_count": 5,
     "metadata": {},
     "output_type": "execute_result"
    }
   ],
   "source": [
    "df.isnull().sum()"
   ]
  },
  {
   "cell_type": "markdown",
   "metadata": {},
   "source": [
    "Após identificar que não há nenhum valor nulo, isto é, não será necessário nenhum tratamento para inputar os dados nulos. Então seguiremos com a análise exploratória."
   ]
  },
  {
   "cell_type": "code",
   "execution_count": 6,
   "metadata": {},
   "outputs": [
    {
     "data": {
      "text/html": [
       "<div>\n",
       "<style scoped>\n",
       "    .dataframe tbody tr th:only-of-type {\n",
       "        vertical-align: middle;\n",
       "    }\n",
       "\n",
       "    .dataframe tbody tr th {\n",
       "        vertical-align: top;\n",
       "    }\n",
       "\n",
       "    .dataframe thead th {\n",
       "        text-align: right;\n",
       "    }\n",
       "</style>\n",
       "<table border=\"1\" class=\"dataframe\">\n",
       "  <thead>\n",
       "    <tr style=\"text-align: right;\">\n",
       "      <th></th>\n",
       "      <th>age</th>\n",
       "      <th>bmi</th>\n",
       "      <th>children</th>\n",
       "      <th>charges</th>\n",
       "    </tr>\n",
       "  </thead>\n",
       "  <tbody>\n",
       "    <tr>\n",
       "      <th>count</th>\n",
       "      <td>100000.000000</td>\n",
       "      <td>100000.000000</td>\n",
       "      <td>100000.000000</td>\n",
       "      <td>100000.000000</td>\n",
       "    </tr>\n",
       "    <tr>\n",
       "      <th>mean</th>\n",
       "      <td>41.022480</td>\n",
       "      <td>30.023276</td>\n",
       "      <td>2.009370</td>\n",
       "      <td>11451.085065</td>\n",
       "    </tr>\n",
       "    <tr>\n",
       "      <th>std</th>\n",
       "      <td>13.526548</td>\n",
       "      <td>4.979519</td>\n",
       "      <td>1.414426</td>\n",
       "      <td>6185.665068</td>\n",
       "    </tr>\n",
       "    <tr>\n",
       "      <th>min</th>\n",
       "      <td>18.000000</td>\n",
       "      <td>7.720000</td>\n",
       "      <td>0.000000</td>\n",
       "      <td>2379.940000</td>\n",
       "    </tr>\n",
       "    <tr>\n",
       "      <th>25%</th>\n",
       "      <td>29.000000</td>\n",
       "      <td>26.670000</td>\n",
       "      <td>1.000000</td>\n",
       "      <td>7731.000000</td>\n",
       "    </tr>\n",
       "    <tr>\n",
       "      <th>50%</th>\n",
       "      <td>41.000000</td>\n",
       "      <td>30.010000</td>\n",
       "      <td>2.000000</td>\n",
       "      <td>8919.195000</td>\n",
       "    </tr>\n",
       "    <tr>\n",
       "      <th>75%</th>\n",
       "      <td>53.000000</td>\n",
       "      <td>33.380000</td>\n",
       "      <td>3.000000</td>\n",
       "      <td>10689.027500</td>\n",
       "    </tr>\n",
       "    <tr>\n",
       "      <th>max</th>\n",
       "      <td>64.000000</td>\n",
       "      <td>54.010000</td>\n",
       "      <td>4.000000</td>\n",
       "      <td>29429.090000</td>\n",
       "    </tr>\n",
       "  </tbody>\n",
       "</table>\n",
       "</div>"
      ],
      "text/plain": [
       "                 age            bmi       children        charges\n",
       "count  100000.000000  100000.000000  100000.000000  100000.000000\n",
       "mean       41.022480      30.023276       2.009370   11451.085065\n",
       "std        13.526548       4.979519       1.414426    6185.665068\n",
       "min        18.000000       7.720000       0.000000    2379.940000\n",
       "25%        29.000000      26.670000       1.000000    7731.000000\n",
       "50%        41.000000      30.010000       2.000000    8919.195000\n",
       "75%        53.000000      33.380000       3.000000   10689.027500\n",
       "max        64.000000      54.010000       4.000000   29429.090000"
      ]
     },
     "execution_count": 6,
     "metadata": {},
     "output_type": "execute_result"
    }
   ],
   "source": [
    "df.describe()"
   ]
  },
  {
   "cell_type": "code",
   "execution_count": 7,
   "metadata": {},
   "outputs": [
    {
     "data": {
      "text/plain": [
       "array([[<Axes: title={'center': 'age'}>, <Axes: title={'center': 'bmi'}>],\n",
       "       [<Axes: title={'center': 'children'}>,\n",
       "        <Axes: title={'center': 'charges'}>]], dtype=object)"
      ]
     },
     "execution_count": 7,
     "metadata": {},
     "output_type": "execute_result"
    },
    {
     "data": {
      "image/png": "[encoded data removed]",
      "text/plain": [
       "<Figure size 2000x1500 with 4 Axes>"
      ]
     },
     "metadata": {},
     "output_type": "display_data"
    }
   ],
   "source": [
    "import matplotlib.pyplot as plt\n",
    "df.hist(bins=50, figsize=(20,15))"
   ]
  },
  {
   "cell_type": "markdown",
   "metadata": {},
   "source": [
    "Agora vamos ver os boxplot dos nossos dados numericos"
   ]
  },
  {
   "cell_type": "code",
   "execution_count": 8,
   "metadata": {},
   "outputs": [
    {
     "data": {
      "image/png": "[encoded data removed]",
      "text/plain": [
       "<Figure size 640x480 with 1 Axes>"
      ]
     },
     "metadata": {},
     "output_type": "display_data"
    },
    {
     "name": "stdout",
     "output_type": "stream",
     "text": [
      "18\n",
      "64\n"
     ]
    },
    {
     "data": {
      "image/png": "[encoded data removed]",
      "text/plain": [
       "<Figure size 640x480 with 1 Axes>"
      ]
     },
     "metadata": {},
     "output_type": "display_data"
    },
    {
     "name": "stdout",
     "output_type": "stream",
     "text": [
      "7.72\n",
      "54.01\n"
     ]
    },
    {
     "data": {
      "image/png": "[encoded data removed]",
      "text/plain": [
       "<Figure size 640x480 with 1 Axes>"
      ]
     },
     "metadata": {},
     "output_type": "display_data"
    },
    {
     "name": "stdout",
     "output_type": "stream",
     "text": [
      "0\n",
      "4\n"
     ]
    }
   ],
   "source": [
    "import matplotlib.pyplot as plt\n",
    "\n",
    "# Criar o gráfico de boxplot\n",
    "plt.boxplot(df['age'])  \n",
    "plt.title('age')\n",
    "plt.ylabel('Valores')\n",
    "plt.show()\n",
    "\n",
    "print(df['age'].min())\n",
    "print(df['age'].max())\n",
    "\n",
    "plt.boxplot(df['bmi'])  \n",
    "plt.title('bmi')\n",
    "plt.ylabel('Valores')\n",
    "plt.show()\n",
    "\n",
    "print(df['bmi'].min())\n",
    "print(df['bmi'].max())\n",
    "\n",
    "plt.boxplot(df['children'])  \n",
    "plt.title('children')\n",
    "plt.ylabel('Valores')\n",
    "plt.show()\n",
    "\n",
    "print(df['children'].min())\n",
    "print(df['children'].max())\n",
    "\n",
    "\n"
   ]
  },
  {
   "cell_type": "markdown",
   "metadata": {},
   "source": [
    "Após análise dos dados numericos, podemos observar que no campo age uma característica interessante é apresentada: Ao que parece, não há indivíduos com as idades 29, 41 e 52. Vamo confirmar essa hipótese a seguir. Continuando a análise, para a coluna bmi podemos observar uma distribuição normal. O número de filhos está no universo dos inteiros, como esperado e vaiando entre 0 e 4. Os numeros fazem sentido, porém, a gente supõem que se os dados fossem reais e não gerados por IA poderiam ter indivíduos com mais de 4 filhos, levando em conta que seriam 100000 indivíduos analisados."
   ]
  },
  {
   "cell_type": "code",
   "execution_count": null,
   "metadata": {},
   "outputs": [
    {
     "data": {
      "image/png": "[encoded data removed]",
      "text/plain": [
       "<Figure size 1200x400 with 1 Axes>"
      ]
     },
     "metadata": {},
     "output_type": "display_data"
    },
    {
     "name": "stdout",
     "output_type": "stream",
     "text": [
      "Missing ages: []\n"
     ]
    }
   ],
   "source": [
    "import pandas as pd\n",
    "import matplotlib.pyplot as plt\n",
    "\n",
    "# Create a DataFrame with the full age range\n",
    "full_ages = pd.DataFrame({'age': range(df['age'].min(), df['age'].max() + 1)})\n",
    "\n",
    "# Merge with the actual data to find missing ages\n",
    "age_summary = full_ages.merge(df[['age']].drop_duplicates(), on='age', how='left', indicator=True)\n",
    "\n",
    "# Plot\n",
    "plt.figure(figsize=(12, 4))\n",
    "plt.bar(age_summary['age'], age_summary['_merge'].eq('both').astype(int), color='skyblue', edgecolor='black')\n",
    "plt.xlabel('Age')\n",
    "plt.ylabel('Data Present (1=Yes, 0=No)')\n",
    "plt.title('Presence of Data by Age')\n",
    "plt.grid(True, axis='y', linestyle='--', alpha=0.7)\n",
    "plt.tight_layout()\n",
    "plt.show()\n",
    "\n",
    "# Print missing ages\n",
    "missing_ages = age_summary[age_summary['_merge'] == 'left_only']['age'].tolist()\n",
    "print(\"Missing ages:\", missing_ages)"
   ]
  },
  {
   "cell_type": "markdown",
   "metadata": {},
   "source": [
    "Como podemos observar, valeu a pena ir mais a fundo e verificar se existiam dados faltantes. Afinal, aprofundando as nossas análises, conseguimos perceber que a nossa hipotese não estava correta, pois existem dados para as idades 29, 41 e 52 sim. Mas por vias das dúvidas vamos verificar novamente, porém de outra maneira agora."
   ]
  },
  {
   "cell_type": "code",
   "execution_count": 10,
   "metadata": {},
   "outputs": [
    {
     "name": "stdout",
     "output_type": "stream",
     "text": [
      "Number of records with age 29:        age     sex    bmi  children smoker     region   charges\n",
      "25      29  female  36.53         2    yes  northeast  23779.39\n",
      "116     29    male  33.75         4     no  southwest   9810.45\n",
      "199     29  female  35.48         0     no  northeast   6243.98\n",
      "266     29    male  24.65         0    yes  northwest  20265.28\n",
      "310     29    male  26.99         4     no  southeast   9104.40\n",
      "...    ...     ...    ...       ...    ...        ...       ...\n",
      "99863   29    male  22.87         4     no  northeast   6084.89\n",
      "99885   29    male  27.31         2     no  northwest   8330.48\n",
      "99915   29    male  27.16         4     no  northwest   8762.56\n",
      "99972   29  female  32.73         0     no  southwest   8545.30\n",
      "99980   29  female  22.84         1     no  southwest   5445.64\n",
      "\n",
      "[2092 rows x 7 columns]\n"
     ]
    }
   ],
   "source": [
    "age29 = df[df['age'] == 29] \n",
    "print(\"Number of records with age 29:\", age29)\n"
   ]
  },
  {
   "cell_type": "code",
   "execution_count": 11,
   "metadata": {},
   "outputs": [
    {
     "name": "stdout",
     "output_type": "stream",
     "text": [
      "Number of records with age 41:        age     sex    bmi  children smoker     region   charges\n",
      "11      41    male  36.37         2     no  northwest   9383.61\n",
      "14      41    male  25.83         3     no  southeast   8245.13\n",
      "18      41    male  22.09         0     no  northeast   6141.94\n",
      "85      41  female  29.33         4     no  northeast  10506.21\n",
      "97      41  female  34.48         3     no  northwest  10307.34\n",
      "...    ...     ...    ...       ...    ...        ...       ...\n",
      "99719   41  female  32.81         4     no  southeast  11387.90\n",
      "99756   41    male  25.19         0     no  northwest   7068.16\n",
      "99799   41    male  24.32         0     no  northwest   7021.89\n",
      "99860   41  female  36.57         4     no  southwest   9646.45\n",
      "99924   41    male  38.49         2     no  southeast   9527.32\n",
      "\n",
      "[2121 rows x 7 columns]\n"
     ]
    }
   ],
   "source": [
    "age41 = df[df['age'] == 41] \n",
    "print(\"Number of records with age 41:\", age41)"
   ]
  },
  {
   "cell_type": "code",
   "execution_count": 12,
   "metadata": {},
   "outputs": [
    {
     "name": "stdout",
     "output_type": "stream",
     "text": [
      "Number of records with age 52:        age     sex    bmi  children smoker     region   charges\n",
      "56      52    male  29.34         0     no  northeast   7082.36\n",
      "105     52    male  25.17         3     no  northwest   6772.96\n",
      "106     52  female  27.97         3     no  southeast   8191.66\n",
      "122     52  female  29.95         1    yes  northeast  23859.93\n",
      "127     52    male  36.18         1    yes  southeast  23053.97\n",
      "...    ...     ...    ...       ...    ...        ...       ...\n",
      "99626   52  female  32.23         0     no  northeast   7726.70\n",
      "99657   52  female  33.59         3     no  southeast   8758.22\n",
      "99692   52  female  31.40         1     no  northeast   8295.01\n",
      "99816   52  female  29.97         1     no  southwest   7944.83\n",
      "99981   52  female  26.84         2    yes  southwest  25242.89\n",
      "\n",
      "[2037 rows x 7 columns]\n"
     ]
    }
   ],
   "source": [
    "age52 = df[df['age'] == 52] \n",
    "print(\"Number of records with age 52:\", age52)"
   ]
  },
  {
   "cell_type": "markdown",
   "metadata": {},
   "source": [
    "Agora que já analisamos os dados numéricos, vamos começar a analisar os dados categóricos."
   ]
  },
  {
   "cell_type": "code",
   "execution_count": 13,
   "metadata": {},
   "outputs": [
    {
     "data": {
      "text/plain": [
       "<Axes: xlabel='region'>"
      ]
     },
     "execution_count": 13,
     "metadata": {},
     "output_type": "execute_result"
    },
    {
     "data": {
      "image/png": "[encoded data removed]",
      "text/plain": [
       "<Figure size 640x480 with 1 Axes>"
      ]
     },
     "metadata": {},
     "output_type": "display_data"
    }
   ],
   "source": [
    "df['region'].value_counts().plot(kind='bar')"
   ]
  },
  {
   "cell_type": "markdown",
   "metadata": {},
   "source": [
    "As amostras foram igualmente distribuídas entre as regiões southeast, southwest, northwest e northeast, sendo 25000 amostras para cada região. Uma característica que está meio artificial, provavelmente por ter sido gerado pela IA."
   ]
  },
  {
   "cell_type": "code",
   "execution_count": 14,
   "metadata": {},
   "outputs": [
    {
     "data": {
      "text/plain": [
       "smoker\n",
       "no     80024\n",
       "yes    19976\n",
       "Name: count, dtype: int64"
      ]
     },
     "execution_count": 14,
     "metadata": {},
     "output_type": "execute_result"
    }
   ],
   "source": [
    "df['smoker'].value_counts()"
   ]
  },
  {
   "cell_type": "code",
   "execution_count": 15,
   "metadata": {},
   "outputs": [
    {
     "data": {
      "text/plain": [
       "<Axes: ylabel='count'>"
      ]
     },
     "execution_count": 15,
     "metadata": {},
     "output_type": "execute_result"
    },
    {
     "data": {
      "image/png": "[encoded data removed]",
      "text/plain": [
       "<Figure size 640x480 with 1 Axes>"
      ]
     },
     "metadata": {},
     "output_type": "display_data"
    }
   ],
   "source": [
    "df['smoker'].value_counts().plot(kind='pie')"
   ]
  },
  {
   "cell_type": "markdown",
   "metadata": {},
   "source": [
    "Entre fumantes e não fumantes, todos estão classificados corretamete entre yes or no, sendo que certa de 80% da base representa os não fumantes."
   ]
  },
  {
   "cell_type": "code",
   "execution_count": 16,
   "metadata": {},
   "outputs": [
    {
     "data": {
      "text/plain": [
       "<Axes: ylabel='count'>"
      ]
     },
     "execution_count": 16,
     "metadata": {},
     "output_type": "execute_result"
    },
    {
     "data": {
      "image/png": "[encoded data removed]",
      "text/plain": [
       "<Figure size 640x480 with 1 Axes>"
      ]
     },
     "metadata": {},
     "output_type": "display_data"
    }
   ],
   "source": [
    "df['sex'].value_counts().plot(kind='pie')"
   ]
  },
  {
   "cell_type": "code",
   "execution_count": 17,
   "metadata": {},
   "outputs": [
    {
     "name": "stdout",
     "output_type": "stream",
     "text": [
      "numeric dimensions ['age', 'bmi', 'children', 'charges']\n",
      "categorical dimensions ['sex', 'smoker', 'region']\n"
     ]
    }
   ],
   "source": [
    "# Identify column types\n",
    "numeric_features = df.select_dtypes(include=[\"int64\", \"float64\"]).columns.tolist()\n",
    "categorical_features = df.select_dtypes(include=[\"object\"]).columns.tolist()\n",
    "\n",
    "print('numeric dimensions',numeric_features)\n",
    "print('categorical dimensions', categorical_features)"
   ]
  },
  {
   "cell_type": "markdown",
   "metadata": {},
   "source": [
    "Após essa análise exploratória de dados, vamos começar o pré-processamento dos dados. Devemos converter os dados categoricos para numericos, usando um algum encoder. Tanto age, quanto region e sex nao possuem ordem intrinseca e por isso descartamos o Ordinal Encoder. Entre o LabelEncoder e OneHotEncoder, escolhemos o OneHotEncoder, pois, apesar da desvantagem de criar mais dimensões (uma para fumante, uma para nao fumante, uma para female, uma para male e uma para cada uma das 4 regioes) ainda assim, vale o preço de garantirmos que o modelo nao vai achar que uma regiao 4 é melhor do que a região 1, por exemplo. Além disso, vamos também normalizar os nossos dados numéricos. Como se trata de uma base que os dados estão bem distribuídos, o ideal é usarmos mesmo a normalização. Se tivessemos muitos outliers ou variáveis não muito bem distribuidas então poderíamos fazer uma padronização nos dados. "
   ]
  },
  {
   "cell_type": "code",
   "execution_count": 18,
   "metadata": {
    "executionInfo": {
     "elapsed": 254,
     "status": "ok",
     "timestamp": 1706827322739,
     "user": {
      "displayName": "Ana Raquel Fernandes Cunha",
      "userId": "11327054232231817255"
     },
     "user_tz": 180
    },
    "id": "y2lMawG7PJZs"
   },
   "outputs": [],
   "source": [
    "from sklearn.compose import ColumnTransformer\n",
    "from sklearn.preprocessing import MinMaxScaler, OneHotEncoder\n",
    "# Preprocessing steps\n",
    "preprocessor = ColumnTransformer(\n",
    "    transformers=[\n",
    "        (\"num\", MinMaxScaler(), numeric_features),\n",
    "        (\"cat\", OneHotEncoder(sparse_output=False), categorical_features)\n",
    "    ]\n",
    ")\n"
   ]
  },
  {
   "cell_type": "code",
   "execution_count": 20,
   "metadata": {},
   "outputs": [
    {
     "data": {
      "text/html": [
       "<div>\n",
       "<style scoped>\n",
       "    .dataframe tbody tr th:only-of-type {\n",
       "        vertical-align: middle;\n",
       "    }\n",
       "\n",
       "    .dataframe tbody tr th {\n",
       "        vertical-align: top;\n",
       "    }\n",
       "\n",
       "    .dataframe thead th {\n",
       "        text-align: right;\n",
       "    }\n",
       "</style>\n",
       "<table border=\"1\" class=\"dataframe\">\n",
       "  <thead>\n",
       "    <tr style=\"text-align: right;\">\n",
       "      <th></th>\n",
       "      <th>age</th>\n",
       "      <th>bmi</th>\n",
       "      <th>children</th>\n",
       "      <th>charges</th>\n",
       "      <th>sex_female</th>\n",
       "      <th>sex_male</th>\n",
       "      <th>smoker_no</th>\n",
       "      <th>smoker_yes</th>\n",
       "      <th>region_northeast</th>\n",
       "      <th>region_northwest</th>\n",
       "      <th>region_southeast</th>\n",
       "      <th>region_southwest</th>\n",
       "    </tr>\n",
       "  </thead>\n",
       "  <tbody>\n",
       "    <tr>\n",
       "      <th>0</th>\n",
       "      <td>0.826087</td>\n",
       "      <td>0.597969</td>\n",
       "      <td>1.00</td>\n",
       "      <td>0.301037</td>\n",
       "      <td>1.0</td>\n",
       "      <td>0.0</td>\n",
       "      <td>1.0</td>\n",
       "      <td>0.0</td>\n",
       "      <td>0.0</td>\n",
       "      <td>0.0</td>\n",
       "      <td>1.0</td>\n",
       "      <td>0.0</td>\n",
       "    </tr>\n",
       "    <tr>\n",
       "      <th>1</th>\n",
       "      <td>0.608696</td>\n",
       "      <td>0.403543</td>\n",
       "      <td>0.75</td>\n",
       "      <td>0.782065</td>\n",
       "      <td>1.0</td>\n",
       "      <td>0.0</td>\n",
       "      <td>0.0</td>\n",
       "      <td>1.0</td>\n",
       "      <td>1.0</td>\n",
       "      <td>0.0</td>\n",
       "      <td>0.0</td>\n",
       "      <td>0.0</td>\n",
       "    </tr>\n",
       "    <tr>\n",
       "      <th>2</th>\n",
       "      <td>0.304348</td>\n",
       "      <td>0.566429</td>\n",
       "      <td>0.50</td>\n",
       "      <td>0.241922</td>\n",
       "      <td>1.0</td>\n",
       "      <td>0.0</td>\n",
       "      <td>1.0</td>\n",
       "      <td>0.0</td>\n",
       "      <td>0.0</td>\n",
       "      <td>0.0</td>\n",
       "      <td>0.0</td>\n",
       "      <td>1.0</td>\n",
       "    </tr>\n",
       "    <tr>\n",
       "      <th>3</th>\n",
       "      <td>0.913043</td>\n",
       "      <td>0.448909</td>\n",
       "      <td>0.50</td>\n",
       "      <td>0.236249</td>\n",
       "      <td>0.0</td>\n",
       "      <td>1.0</td>\n",
       "      <td>1.0</td>\n",
       "      <td>0.0</td>\n",
       "      <td>0.0</td>\n",
       "      <td>0.0</td>\n",
       "      <td>0.0</td>\n",
       "      <td>1.0</td>\n",
       "    </tr>\n",
       "    <tr>\n",
       "      <th>4</th>\n",
       "      <td>0.152174</td>\n",
       "      <td>0.578311</td>\n",
       "      <td>1.00</td>\n",
       "      <td>0.754661</td>\n",
       "      <td>0.0</td>\n",
       "      <td>1.0</td>\n",
       "      <td>0.0</td>\n",
       "      <td>1.0</td>\n",
       "      <td>1.0</td>\n",
       "      <td>0.0</td>\n",
       "      <td>0.0</td>\n",
       "      <td>0.0</td>\n",
       "    </tr>\n",
       "    <tr>\n",
       "      <th>...</th>\n",
       "      <td>...</td>\n",
       "      <td>...</td>\n",
       "      <td>...</td>\n",
       "      <td>...</td>\n",
       "      <td>...</td>\n",
       "      <td>...</td>\n",
       "      <td>...</td>\n",
       "      <td>...</td>\n",
       "      <td>...</td>\n",
       "      <td>...</td>\n",
       "      <td>...</td>\n",
       "      <td>...</td>\n",
       "    </tr>\n",
       "    <tr>\n",
       "      <th>99995</th>\n",
       "      <td>0.565217</td>\n",
       "      <td>0.343271</td>\n",
       "      <td>0.50</td>\n",
       "      <td>0.669928</td>\n",
       "      <td>1.0</td>\n",
       "      <td>0.0</td>\n",
       "      <td>0.0</td>\n",
       "      <td>1.0</td>\n",
       "      <td>1.0</td>\n",
       "      <td>0.0</td>\n",
       "      <td>0.0</td>\n",
       "      <td>0.0</td>\n",
       "    </tr>\n",
       "    <tr>\n",
       "      <th>99996</th>\n",
       "      <td>0.478261</td>\n",
       "      <td>0.297256</td>\n",
       "      <td>1.00</td>\n",
       "      <td>0.237684</td>\n",
       "      <td>1.0</td>\n",
       "      <td>0.0</td>\n",
       "      <td>1.0</td>\n",
       "      <td>0.0</td>\n",
       "      <td>0.0</td>\n",
       "      <td>1.0</td>\n",
       "      <td>0.0</td>\n",
       "      <td>0.0</td>\n",
       "    </tr>\n",
       "    <tr>\n",
       "      <th>99997</th>\n",
       "      <td>0.478261</td>\n",
       "      <td>0.405055</td>\n",
       "      <td>0.50</td>\n",
       "      <td>0.755657</td>\n",
       "      <td>1.0</td>\n",
       "      <td>0.0</td>\n",
       "      <td>0.0</td>\n",
       "      <td>1.0</td>\n",
       "      <td>0.0</td>\n",
       "      <td>0.0</td>\n",
       "      <td>0.0</td>\n",
       "      <td>1.0</td>\n",
       "    </tr>\n",
       "    <tr>\n",
       "      <th>99998</th>\n",
       "      <td>0.630435</td>\n",
       "      <td>0.456470</td>\n",
       "      <td>0.00</td>\n",
       "      <td>0.196859</td>\n",
       "      <td>1.0</td>\n",
       "      <td>0.0</td>\n",
       "      <td>1.0</td>\n",
       "      <td>0.0</td>\n",
       "      <td>0.0</td>\n",
       "      <td>1.0</td>\n",
       "      <td>0.0</td>\n",
       "      <td>0.0</td>\n",
       "    </tr>\n",
       "    <tr>\n",
       "      <th>99999</th>\n",
       "      <td>0.913043</td>\n",
       "      <td>0.277598</td>\n",
       "      <td>0.25</td>\n",
       "      <td>0.809412</td>\n",
       "      <td>0.0</td>\n",
       "      <td>1.0</td>\n",
       "      <td>0.0</td>\n",
       "      <td>1.0</td>\n",
       "      <td>0.0</td>\n",
       "      <td>1.0</td>\n",
       "      <td>0.0</td>\n",
       "      <td>0.0</td>\n",
       "    </tr>\n",
       "  </tbody>\n",
       "</table>\n",
       "<p>100000 rows × 12 columns</p>\n",
       "</div>"
      ],
      "text/plain": [
       "            age       bmi  children   charges  sex_female  sex_male   \n",
       "0      0.826087  0.597969      1.00  0.301037         1.0       0.0  \\\n",
       "1      0.608696  0.403543      0.75  0.782065         1.0       0.0   \n",
       "2      0.304348  0.566429      0.50  0.241922         1.0       0.0   \n",
       "3      0.913043  0.448909      0.50  0.236249         0.0       1.0   \n",
       "4      0.152174  0.578311      1.00  0.754661         0.0       1.0   \n",
       "...         ...       ...       ...       ...         ...       ...   \n",
       "99995  0.565217  0.343271      0.50  0.669928         1.0       0.0   \n",
       "99996  0.478261  0.297256      1.00  0.237684         1.0       0.0   \n",
       "99997  0.478261  0.405055      0.50  0.755657         1.0       0.0   \n",
       "99998  0.630435  0.456470      0.00  0.196859         1.0       0.0   \n",
       "99999  0.913043  0.277598      0.25  0.809412         0.0       1.0   \n",
       "\n",
       "       smoker_no  smoker_yes  region_northeast  region_northwest   \n",
       "0            1.0         0.0               0.0               0.0  \\\n",
       "1            0.0         1.0               1.0               0.0   \n",
       "2            1.0         0.0               0.0               0.0   \n",
       "3            1.0         0.0               0.0               0.0   \n",
       "4            0.0         1.0               1.0               0.0   \n",
       "...          ...         ...               ...               ...   \n",
       "99995        0.0         1.0               1.0               0.0   \n",
       "99996        1.0         0.0               0.0               1.0   \n",
       "99997        0.0         1.0               0.0               0.0   \n",
       "99998        1.0         0.0               0.0               1.0   \n",
       "99999        0.0         1.0               0.0               1.0   \n",
       "\n",
       "       region_southeast  region_southwest  \n",
       "0                   1.0               0.0  \n",
       "1                   0.0               0.0  \n",
       "2                   0.0               1.0  \n",
       "3                   0.0               1.0  \n",
       "4                   0.0               0.0  \n",
       "...                 ...               ...  \n",
       "99995               0.0               0.0  \n",
       "99996               0.0               0.0  \n",
       "99997               0.0               1.0  \n",
       "99998               0.0               0.0  \n",
       "99999               0.0               0.0  \n",
       "\n",
       "[100000 rows x 12 columns]"
      ]
     },
     "execution_count": 20,
     "metadata": {},
     "output_type": "execute_result"
    }
   ],
   "source": [
    "baseFinal = preprocessor.fit_transform(df)\n",
    "# baseFinal.shape\n",
    "# Get names of numeric features (they stay the same)\n",
    "num_features = numeric_features  # previously identified from X\n",
    "\n",
    "# Get names of one-hot encoded features\n",
    "cat_transformer = preprocessor.named_transformers_[\"cat\"]\n",
    "cat_feature_names = cat_transformer.get_feature_names_out(categorical_features)\n",
    "\n",
    "# Combine all feature names\n",
    "all_feature_names = list(num_features) + list(cat_feature_names)\n",
    "all_feature_names\n",
    "\n",
    "# turn baseFinal into a DataFrame\n",
    "baseFinal = pd.DataFrame(baseFinal, columns=all_feature_names)\n",
    "baseFinal"
   ]
  },
  {
   "cell_type": "markdown",
   "metadata": {},
   "source": [
    "Agora que terminamos o pré-processamento, vamos separar os dados de teste(20%) e de treinamento(80%)"
   ]
  },
  {
   "cell_type": "code",
   "execution_count": 21,
   "metadata": {},
   "outputs": [],
   "source": [
    "# Separate features and target, and split into train and test sets\n",
    "from sklearn.model_selection import train_test_split\n",
    "\n",
    "X = baseFinal.drop(\"charges\", axis=1)\n",
    "Y = baseFinal[\"charges\"]\n",
    "\n",
    "X_train, X_test, Y_train, Y_test = train_test_split(X, Y, test_size = 0.20)"
   ]
  },
  {
   "cell_type": "markdown",
   "metadata": {},
   "source": [
    "Então agora podemos aplicar a regressão linear"
   ]
  },
  {
   "cell_type": "code",
   "execution_count": 22,
   "metadata": {},
   "outputs": [
    {
     "data": {
      "text/plain": [
       "0.9743876389778775"
      ]
     },
     "execution_count": 22,
     "metadata": {},
     "output_type": "execute_result"
    }
   ],
   "source": [
    "from sklearn.linear_model import LinearRegression\n",
    "\n",
    "lin_reg = LinearRegression()\n",
    "lin_reg.fit(X_train, Y_train)\n",
    "lin_r2 = lin_reg.score(X_test, Y_test)  #r²:VARIANCIA EXPLICADA\n",
    "lin_r2"
   ]
  },
  {
   "cell_type": "markdown",
   "metadata": {},
   "source": [
    "Bom, pela métrica do coeficiente de determinação, ou r², tivemos uma variancia explicada de aproximadamente 97.38%, o que quer dizer que o modelo explica 97.38% da variância no alvo (charges). Mas vamos avaliar o nosso modelo segundo outras metricas também: Erro Absoluto Médio (MAE), Erro Percentual Médio Absoluto (MAPE) e Raiz do Erro Quadrático Médio (RMSE)."
   ]
  },
  {
   "cell_type": "markdown",
   "metadata": {},
   "source": [
    "MSE e MRSE"
   ]
  },
  {
   "cell_type": "code",
   "execution_count": 23,
   "metadata": {},
   "outputs": [
    {
     "data": {
      "text/plain": [
       "0.03686656238690457"
      ]
     },
     "execution_count": 23,
     "metadata": {},
     "output_type": "execute_result"
    }
   ],
   "source": [
    "# MSE\n",
    "import numpy as np\n",
    "from sklearn.metrics import mean_squared_error\n",
    "# erro médio quadrático eleva ao quadrado a média do erro médio absoluto. Estou avaliando se os erros não são tão grandes, esses erros são penalizados.\n",
    "# penaliza muito mais valores distantes da média.\n",
    "final_predictions = lin_reg.predict(X_test)\n",
    "lin_mse = mean_squared_error(Y_test, final_predictions) #erro quadratico medio\n",
    "lin_rmse = np.sqrt(lin_mse) # raiz quadrada \n",
    "lin_rmse"
   ]
  },
  {
   "cell_type": "markdown",
   "metadata": {},
   "source": [
    "O RMSE de aproximademente 3.7% é um valor que julgamos bom, pois é uma baixa quantidade de grandes erros."
   ]
  },
  {
   "cell_type": "code",
   "execution_count": 24,
   "metadata": {},
   "outputs": [
    {
     "data": {
      "text/plain": [
       "0.029397947583175283"
      ]
     },
     "execution_count": 24,
     "metadata": {},
     "output_type": "execute_result"
    }
   ],
   "source": [
    "from sklearn.metrics import mean_absolute_error\n",
    "\n",
    "lin_mae = mean_absolute_error(Y_test, final_predictions)\n",
    "lin_mae"
   ]
  },
  {
   "cell_type": "markdown",
   "metadata": {},
   "source": [
    "E o MAE também é um valor baixo, o que valida a qualidade do modelo também."
   ]
  },
  {
   "cell_type": "code",
   "execution_count": 25,
   "metadata": {},
   "outputs": [
    {
     "name": "stdout",
     "output_type": "stream",
     "text": [
      "r² 0.9743876389778775\n"
     ]
    }
   ],
   "source": [
    "from sklearn.metrics import r2_score\n",
    "r2 = r2_score(Y_test, final_predictions)\n",
    "print('r²',r2)"
   ]
  },
  {
   "cell_type": "code",
   "execution_count": 26,
   "metadata": {},
   "outputs": [],
   "source": [
    "# Função para calcular o MAPE (Mean Absolute Percentage Error)\n",
    "def calculate_mape(labels, predictions):\n",
    "    errors = np.abs(labels - predictions)\n",
    "    relative_errors = errors / np.abs(labels)\n",
    "    mape = np.mean(relative_errors) * 100\n",
    "    return mape"
   ]
  },
  {
   "cell_type": "code",
   "execution_count": 27,
   "metadata": {},
   "outputs": [
    {
     "name": "stdout",
     "output_type": "stream",
     "text": [
      "O MAPE é: 12.48%\n"
     ]
    }
   ],
   "source": [
    "# Calcular o MAPE\n",
    "mape_result = calculate_mape(Y_test, final_predictions)\n",
    "\n",
    "# Imprimir o resultado\n",
    "print(f\"O MAPE é: {mape_result:.2f}%\")"
   ]
  },
  {
   "cell_type": "markdown",
   "metadata": {},
   "source": [
    "Um MAPE de 12,71% significa que, em média, as previsões desse modelo de regressão erram 12,71% em relação aos valores reais. Por exemplo, para um valor real de 1000, o modelo estaria prevendo algo entre 872,9 e 1127,1.\n",
    "\n",
    "O Modelo de Regressão Linear se adequou muito bem para essa base de dados. Contudo, podemos testar o desempenho de outros algoritmos como KNN regression e Decision Tree Regression para fazer uma melhor tomada de decisão."
   ]
  },
  {
   "cell_type": "code",
   "execution_count": 28,
   "metadata": {},
   "outputs": [
    {
     "name": "stdout",
     "output_type": "stream",
     "text": [
      "k: 1 R²: 0.9486861746757163\n",
      "k: 3 R²: 0.9658683535891935\n",
      "k: 5 R²: 0.9688628059336634\n",
      "k: 7 R²: 0.9703159814695176\n",
      "k: 9 R²: 0.9711989105488944\n",
      "k: 11 R²: 0.971654631274904\n",
      "k: 13 R²: 0.972016724943636\n"
     ]
    }
   ],
   "source": [
    "from sklearn.neighbors import KNeighborsRegressor \n",
    "maior =0;\n",
    "indice=0;\n",
    "for i in range(1, 15, 2):\n",
    "    knn = KNeighborsRegressor(n_neighbors=i)\n",
    "    knn.fit(X_train, Y_train)\n",
    "    ve = knn.score(X_test, Y_test)\n",
    "    print(\"k:\", i, \"R²:\", ve )   \n",
    "    if ve > maior:\n",
    "        maior = ve\n",
    "        indice = i"
   ]
  },
  {
   "cell_type": "code",
   "execution_count": 29,
   "metadata": {},
   "outputs": [
    {
     "name": "stdout",
     "output_type": "stream",
     "text": [
      "Maior R²: 0.972016724943636\n",
      "Melhor k 13\n"
     ]
    }
   ],
   "source": [
    "print(\"Maior R²:\", maior)\n",
    "print(\"Melhor k\", indice)"
   ]
  },
  {
   "cell_type": "code",
   "execution_count": 30,
   "metadata": {},
   "outputs": [
    {
     "data": {
      "text/plain": [
       "0.972016724943636"
      ]
     },
     "execution_count": 30,
     "metadata": {},
     "output_type": "execute_result"
    }
   ],
   "source": [
    "knn = KNeighborsRegressor(n_neighbors=indice)\n",
    "knn.fit(X_train, Y_train)\n",
    "knn_r2 = knn.score(X_test, Y_test)\n",
    "knn_r2"
   ]
  },
  {
   "cell_type": "code",
   "execution_count": 31,
   "metadata": {},
   "outputs": [
    {
     "data": {
      "text/plain": [
       "0.03853515472140392"
      ]
     },
     "execution_count": 31,
     "metadata": {},
     "output_type": "execute_result"
    }
   ],
   "source": [
    "final_predictions_knn = knn.predict(X_test)\n",
    "knn_mse = mean_squared_error(Y_test, final_predictions_knn) #erro quadratico medio\n",
    "knn_rmse = np.sqrt(knn_mse) # raiz quadrada \n",
    "knn_rmse"
   ]
  },
  {
   "cell_type": "code",
   "execution_count": 32,
   "metadata": {},
   "outputs": [
    {
     "data": {
      "text/plain": [
       "0.03078059960507788"
      ]
     },
     "execution_count": 32,
     "metadata": {},
     "output_type": "execute_result"
    }
   ],
   "source": [
    "knn_mae = mean_absolute_error(Y_test, final_predictions_knn)\n",
    "knn_mae"
   ]
  },
  {
   "cell_type": "code",
   "execution_count": 33,
   "metadata": {},
   "outputs": [
    {
     "name": "stdout",
     "output_type": "stream",
     "text": [
      "               Model        R²      RMSE       MAE\n",
      "0  Linear Regression  0.974388  0.036867  0.029398\n",
      "1                KNN  0.972017  0.038535  0.030781\n"
     ]
    }
   ],
   "source": [
    "results = {\n",
    "    'Model': ['Linear Regression', 'KNN'],\n",
    "    'R²': [lin_r2, knn_r2],\n",
    "    'RMSE': [lin_rmse, knn_rmse],\n",
    "    'MAE': [lin_mae, knn_mae]\n",
    "}\n",
    "\n",
    "df_results = pd.DataFrame(results)\n",
    "print(df_results)\n"
   ]
  }
 ],
 "metadata": {
  "colab": {
   "provenance": []
  },
  "kernelspec": {
   "display_name": "Python 3",
   "name": "python3"
  },
  "language_info": {
   "codemirror_mode": {
    "name": "ipython",
    "version": 3
   },
   "file_extension": ".py",
   "mimetype": "text/x-python",
   "name": "python",
   "nbconvert_exporter": "python",
   "pygments_lexer": "ipython3",
   "version": "3.10.4"
  }
 },
 "nbformat": 4,
 "nbformat_minor": 0
}
